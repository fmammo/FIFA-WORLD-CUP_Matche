{
 "cells": [
  {
   "cell_type": "markdown",
   "id": "fa03bc1d",
   "metadata": {},
   "source": [
    "### EDA (Exploratory Data Analysis)"
   ]
  },
  {
   "cell_type": "markdown",
   "id": "e98505dd",
   "metadata": {},
   "source": [
    "#### Install necessay Libraries"
   ]
  },
  {
   "cell_type": "code",
   "execution_count": 2,
   "id": "c23140b8",
   "metadata": {},
   "outputs": [],
   "source": [
    "import pandas as pd\n",
    "import numpy as np\n",
    "import matplotlib.pyplot as plt\n",
    "import seaborn as sns\n",
    "%matplotlib inline  # To enable drawing of matplotlib charts in the IPython environment"
   ]
  },
  {
   "cell_type": "code",
   "execution_count": 3,
   "id": "1b276e8b",
   "metadata": {},
   "outputs": [],
   "source": [
    "import plotly as py\n",
    "import cufflinks as cf # A library to connect plotly and pandas for visualization on data frames"
   ]
  },
  {
   "cell_type": "code",
   "execution_count": 4,
   "id": "c25c8302",
   "metadata": {},
   "outputs": [
    {
     "data": {
      "text/html": [
       "        <script type=\"text/javascript\">\n",
       "        window.PlotlyConfig = {MathJaxConfig: 'local'};\n",
       "        if (window.MathJax && window.MathJax.Hub && window.MathJax.Hub.Config) {window.MathJax.Hub.Config({SVG: {font: \"STIX-Web\"}});}\n",
       "        if (typeof require !== 'undefined') {\n",
       "        require.undef(\"plotly\");\n",
       "        requirejs.config({\n",
       "            paths: {\n",
       "                'plotly': ['https://cdn.plot.ly/plotly-2.27.0.min']\n",
       "            }\n",
       "        });\n",
       "        require(['plotly'], function(Plotly) {\n",
       "            window._Plotly = Plotly;\n",
       "        });\n",
       "        }\n",
       "        </script>\n",
       "        "
      ]
     },
     "metadata": {},
     "output_type": "display_data"
    },
    {
     "data": {
      "text/html": [
       "        <script type=\"text/javascript\">\n",
       "        window.PlotlyConfig = {MathJaxConfig: 'local'};\n",
       "        if (window.MathJax && window.MathJax.Hub && window.MathJax.Hub.Config) {window.MathJax.Hub.Config({SVG: {font: \"STIX-Web\"}});}\n",
       "        if (typeof require !== 'undefined') {\n",
       "        require.undef(\"plotly\");\n",
       "        requirejs.config({\n",
       "            paths: {\n",
       "                'plotly': ['https://cdn.plot.ly/plotly-2.27.0.min']\n",
       "            }\n",
       "        });\n",
       "        require(['plotly'], function(Plotly) {\n",
       "            window._Plotly = Plotly;\n",
       "        });\n",
       "        }\n",
       "        </script>\n",
       "        "
      ]
     },
     "metadata": {},
     "output_type": "display_data"
    }
   ],
   "source": [
    "# To make plotly and cufflinks work offline mode\n",
    "from plotly.offline import iplot\n",
    "py.offline.init_notebook_mode(connected = True)\n",
    "cf.go_offline()"
   ]
  },
  {
   "cell_type": "code",
   "execution_count": 8,
   "id": "b2d1abf1",
   "metadata": {},
   "outputs": [],
   "source": [
    "# Load the dataset\n",
    "world_cups = pd.read_csv('world_cup_cl.csv')\n",
    "matches = pd.read_csv('matches_cl.csv')\n",
    "players = pd.read_csv('players_cl.csv')"
   ]
  },
  {
   "cell_type": "markdown",
   "id": "f5d71d20",
   "metadata": {},
   "source": [
    "Let's check the cleaned datasets"
   ]
  },
  {
   "cell_type": "code",
   "execution_count": 6,
   "id": "fa3197db",
   "metadata": {},
   "outputs": [],
   "source": [
    "# Display the shape of the three dataset\n",
    "print(\"Shape of the three datasets are: \", world_cups.shape, matches.shape, players.shape)"
   ]
  },
  {
   "cell_type": "markdown",
   "id": "cb406970",
   "metadata": {},
   "source": [
    "Question_1. Which country won the most?"
   ]
  },
  {
   "cell_type": "code",
   "execution_count": 7,
   "id": "8b3709bc",
   "metadata": {},
   "outputs": [],
   "source": [
    "# Who won during those tournaments \n",
    "winner = matches['winner'].value_counts()\n",
    "winner"
   ]
  },
  {
   "cell_type": "code",
   "execution_count": 8,
   "id": "758460ec",
   "metadata": {},
   "outputs": [],
   "source": [
    "# Who were in the second position\n",
    "second = matches['runners-up'].value_counts()\n",
    "second"
   ]
  },
  {
   "cell_type": "code",
   "execution_count": 9,
   "id": "71adcba1",
   "metadata": {},
   "outputs": [],
   "source": [
    "# Who were in the third position\n",
    "third = matches['third'].value_counts()\n",
    "third"
   ]
  },
  {
   "cell_type": "code",
   "execution_count": 10,
   "id": "22c84a38",
   "metadata": {},
   "outputs": [],
   "source": [
    "# Add up the above three series   \n",
    "teams = pd.concat([winner, second, third], axis = 1)\n",
    "teams"
   ]
  },
  {
   "cell_type": "code",
   "execution_count": 11,
   "id": "ca4e0240",
   "metadata": {},
   "outputs": [],
   "source": [
    "# To make the columns name consistence and self explanatory let's change the 2nd name to second \n",
    "teams.columns = ['winner', 'second','third']\n",
    "teams.columns"
   ]
  },
  {
   "cell_type": "code",
   "execution_count": 12,
   "id": "f76c67d2",
   "metadata": {},
   "outputs": [],
   "source": [
    "# As we can see our teams dataset has given null values in each column for countries which doesn't have a datapoint. \n",
    "# So, we have to fill those null values with 0 and chnage the datatype of the columns to integer from float\n",
    "teams.fillna(0, inplace = True)\n",
    "teams = teams.astype(int)\n",
    "teams"
   ]
  },
  {
   "cell_type": "code",
   "execution_count": 13,
   "id": "e548067b",
   "metadata": {},
   "outputs": [],
   "source": [
    "# Plot the chart\n",
    "teams.iplot(kind = 'bar', xTitle = 'Teams', yTitle = 'Count', title = 'Winners Rank')"
   ]
  },
  {
   "cell_type": "markdown",
   "id": "db25c61c",
   "metadata": {},
   "source": [
    "Question 2. How many number of goals per country?"
   ]
  },
  {
   "cell_type": "code",
   "execution_count": 14,
   "id": "ddb7ebbe",
   "metadata": {
    "scrolled": true
   },
   "outputs": [],
   "source": [
    "# Select the necessary columns\n",
    "home = world_cups[['home team name', 'home team goals']]\n",
    "away = world_cups[['away team name', 'away team goals']]"
   ]
  },
  {
   "cell_type": "code",
   "execution_count": 15,
   "id": "be24691b",
   "metadata": {},
   "outputs": [],
   "source": [
    "# Replace the column names to make it self explanatory\n",
    "home.columns = ['Countries', 'Goals']\n",
    "# Make the column names of both tables the same\n",
    "away.columns = home.columns"
   ]
  },
  {
   "cell_type": "code",
   "execution_count": 16,
   "id": "c2565bc6",
   "metadata": {},
   "outputs": [],
   "source": [
    "# Append away table to home but drop or ignore the index\n",
    "goals = home.append(away, ignore_index=True)\n",
    "# Group by country and sum up the the total goals\n",
    "goals = goals.groupby('Countries').sum()\n",
    "goals"
   ]
  },
  {
   "cell_type": "code",
   "execution_count": 17,
   "id": "38a74d1e",
   "metadata": {},
   "outputs": [],
   "source": [
    "# Sort the out put by goal in decending order\n",
    "goals = goals.sort_values(by = 'Goals', ascending = False)\n",
    "goals"
   ]
  },
  {
   "cell_type": "code",
   "execution_count": 18,
   "id": "d8e39aca",
   "metadata": {},
   "outputs": [],
   "source": [
    "# Display the top 20 country\n",
    "goals[:20].iplot(kind = 'bar', xTitle = 'Country Names', yTitle = \"Goals\", title = 'Countries hits most number of goals')"
   ]
  },
  {
   "cell_type": "markdown",
   "id": "6ea8d1b7",
   "metadata": {},
   "source": [
    "Question 3. Which matches has highest number of attendance?"
   ]
  },
  {
   "cell_type": "code",
   "execution_count": 20,
   "id": "819aff61",
   "metadata": {
    "scrolled": false
   },
   "outputs": [],
   "source": [
    "top_ten = world_cups.sort_values(by = 'attendance', ascending = False)[:10]\n",
    "top_ten['Vs'] = top_ten['home team name'] + \" Vs \" + top_ten[\"away team name\"]\n",
    "\n",
    "plt.figure(figsize = (12,9))\n",
    "\n",
    "ax = sns.barplot(y = top_ten['Vs'], x = top_ten['attendance'])\n",
    "\n",
    "sns.despine(right = True) # To remove the left line\n",
    "\n",
    "plt.ylabel('Match Teams')\n",
    "plt.xlabel('Attendance')\n",
    "plt.title('Matches with the highest number of attendance')\n",
    "\n",
    "for i, s in enumerate(\"stadium: \" + top_ten['stadium'] + \", date: \" + top_ten['datetime']):\n",
    "    ax.text(2000, i, s, fontsize = 12, color = 'white')\n",
    "\n",
    "plt.show()"
   ]
  },
  {
   "cell_type": "markdown",
   "id": "922e7fa9",
   "metadata": {},
   "source": [
    "Question_4. Which stadiums has highest average attendance?"
   ]
  },
  {
   "cell_type": "code",
   "execution_count": 21,
   "id": "f9f7e752",
   "metadata": {},
   "outputs": [],
   "source": [
    "stadium  = world_cups.groupby(['stadium','city'])['attendance'].mean().reset_index().sort_values(by = 'attendance', ascending = False)\n",
    "stadium_10 = stadium[:10]\n",
    "stadium_10"
   ]
  },
  {
   "cell_type": "code",
   "execution_count": null,
   "id": "16f43aec",
   "metadata": {},
   "outputs": [],
   "source": [
    "plt.figure(figsize = (12,9))\n",
    "ax = sns.barplot(y = stadium_10['stadium'], x = stadium_10['attendance'])\n",
    "sns.despine(right = True)\n",
    "\n",
    "plt.ylabel('Stadium Name')\n",
    "plt.xlabel('Attendance')\n",
    "plt.title('Stadium with the heighst number of attendance')\n",
    "\n",
    "for i, s in enumerate(\"city: \" + stadium_10['city']):\n",
    "    ax.text(2000, i, s, fontsize = 12, color = 'white')\n",
    "\n",
    "plt.show()"
   ]
  },
  {
   "cell_type": "markdown",
   "id": "099957d9",
   "metadata": {},
   "source": [
    "Question_5. Match outcomes by home and away teams/ what is the percentage of win and loss when they play home and away? place."
   ]
  },
  {
   "cell_type": "code",
   "execution_count": 53,
   "id": "74725236",
   "metadata": {},
   "outputs": [],
   "source": [
    "# Find out who won the most\n",
    "def labels(world_cups):\n",
    "    if world_cups[\"home team goals\"] > world_cups[\"away team goals\"]:\n",
    "        return 'Home Team Win'\n",
    "    if world_cups['home team goals'] < world_cups['away team goals']:\n",
    "        return 'Away Team Win'"
   ]
  },
  {
   "cell_type": "code",
   "execution_count": 62,
   "id": "6247719b",
   "metadata": {},
   "outputs": [],
   "source": [
    "# Create outcomes column which holds the result of winners\n",
    "world_cups['outcomes'] = world_cups.apply(lambda x: labels(x), axis = 1)"
   ]
  },
  {
   "cell_type": "code",
   "execution_count": 63,
   "id": "f3e1a836",
   "metadata": {},
   "outputs": [
    {
     "data": {
      "text/html": [
       "<div>\n",
       "<style scoped>\n",
       "    .dataframe tbody tr th:only-of-type {\n",
       "        vertical-align: middle;\n",
       "    }\n",
       "\n",
       "    .dataframe tbody tr th {\n",
       "        vertical-align: top;\n",
       "    }\n",
       "\n",
       "    .dataframe thead th {\n",
       "        text-align: right;\n",
       "    }\n",
       "</style>\n",
       "<table border=\"1\" class=\"dataframe\">\n",
       "  <thead>\n",
       "    <tr style=\"text-align: right;\">\n",
       "      <th></th>\n",
       "      <th>year</th>\n",
       "      <th>datetime</th>\n",
       "      <th>stadium</th>\n",
       "      <th>city</th>\n",
       "      <th>home team name</th>\n",
       "      <th>home team goals</th>\n",
       "      <th>away team goals</th>\n",
       "      <th>away team name</th>\n",
       "      <th>attendance</th>\n",
       "      <th>outcomes</th>\n",
       "    </tr>\n",
       "  </thead>\n",
       "  <tbody>\n",
       "    <tr>\n",
       "      <th>0</th>\n",
       "      <td>1930</td>\n",
       "      <td>13 Jul, 1930</td>\n",
       "      <td>Pocitos</td>\n",
       "      <td>Montevideo</td>\n",
       "      <td>France</td>\n",
       "      <td>4</td>\n",
       "      <td>1</td>\n",
       "      <td>Mexico</td>\n",
       "      <td>4444</td>\n",
       "      <td>Home Team Win</td>\n",
       "    </tr>\n",
       "    <tr>\n",
       "      <th>1</th>\n",
       "      <td>1930</td>\n",
       "      <td>13 Jul, 1930</td>\n",
       "      <td>Parque Central</td>\n",
       "      <td>Montevideo</td>\n",
       "      <td>USA</td>\n",
       "      <td>3</td>\n",
       "      <td>0</td>\n",
       "      <td>Belgium</td>\n",
       "      <td>18346</td>\n",
       "      <td>Home Team Win</td>\n",
       "    </tr>\n",
       "  </tbody>\n",
       "</table>\n",
       "</div>"
      ],
      "text/plain": [
       "   year      datetime         stadium         city home team name  \\\n",
       "0  1930  13 Jul, 1930         Pocitos  Montevideo          France   \n",
       "1  1930  13 Jul, 1930  Parque Central  Montevideo             USA   \n",
       "\n",
       "   home team goals  away team goals away team name  attendance       outcomes  \n",
       "0                4                1         Mexico        4444  Home Team Win  \n",
       "1                3                0        Belgium       18346  Home Team Win  "
      ]
     },
     "execution_count": 63,
     "metadata": {},
     "output_type": "execute_result"
    }
   ],
   "source": [
    "# Drop the unnamed:0 column and assign the new dataframe to new variable name \n",
    "world_cups_ = world_cups.drop(\"Unnamed: 0\", axis='columns')\n",
    "# Check the dataset\n",
    "world_cups_.head(2)"
   ]
  },
  {
   "cell_type": "code",
   "execution_count": 64,
   "id": "1839fe6f",
   "metadata": {},
   "outputs": [
    {
     "data": {
      "text/plain": [
       "Home Team Win    486\n",
       "Away Team Win    174\n",
       "Name: outcomes, dtype: int64"
      ]
     },
     "execution_count": 64,
     "metadata": {},
     "output_type": "execute_result"
    }
   ],
   "source": [
    "# Calculate the frequency of the outcome column values\n",
    "drow = world_cups_['outcomes'].value_counts()\n",
    "drow"
   ]
  },
  {
   "cell_type": "code",
   "execution_count": 2,
   "id": "5b55197c",
   "metadata": {},
   "outputs": [],
   "source": [
    "# Visualize the outcomes \n",
    "plt.figure(figsize = (10,10))\n",
    "drow.plot.pie(autopct = \"%1.0f%%\" , colors = sns.color_palette('winter_r'), shadow = True)\n",
    "plt.title(\"Match outcomes by Home and Away Team\")\n",
    "plt.show()"
   ]
  }
 ],
 "metadata": {
  "kernelspec": {
   "display_name": "Python 3",
   "language": "python",
   "name": "python3"
  },
  "language_info": {
   "codemirror_mode": {
    "name": "ipython",
    "version": 3
   },
   "file_extension": ".py",
   "mimetype": "text/x-python",
   "name": "python",
   "nbconvert_exporter": "python",
   "pygments_lexer": "ipython3",
   "version": "3.6.8"
  }
 },
 "nbformat": 4,
 "nbformat_minor": 5
}
