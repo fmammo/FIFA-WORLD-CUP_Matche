{
 "cells": [
  {
   "cell_type": "markdown",
   "id": "f6f6a4dd",
   "metadata": {},
   "source": [
    "## FIFA World Cup Maches Data cleaning"
   ]
  },
  {
   "cell_type": "markdown",
   "id": "d7203781",
   "metadata": {},
   "source": [
    "### Import necessary libraries "
   ]
  },
  {
   "cell_type": "code",
   "execution_count": 2,
   "id": "ec3ea407",
   "metadata": {},
   "outputs": [],
   "source": [
    "import pandas as pd \n",
    "import numpy as np "
   ]
  },
  {
   "cell_type": "code",
   "execution_count": 3,
   "id": "9ab61102",
   "metadata": {
    "scrolled": true
   },
   "outputs": [],
   "source": [
    "# Get/load the dataset\n",
    "world_cups =  pd.read_csv('C:\\\\Users\\\\fevi\\\\Documents\\\\IRONHACK\\\\Iron_proj_1\\\\data\\\\origional data file\\\\WorldCupMatches.csv')\n",
    "players =  pd.read_csv('C:\\\\Users\\\\fevi\\\\Documents\\\\IRONHACK\\\\Iron_proj_1\\\\data\\\\origional data file\\\\WorldCupPlayers.csv')\n",
    "matches = pd.read_csv('C:\\\\Users\\\\fevi\\\\Documents\\\\IRONHACK\\\\Iron_proj_1\\\\data\\\\origional data file\\\\WorldCups.csv')"
   ]
  },
  {
   "cell_type": "markdown",
   "id": "7dab9ee1",
   "metadata": {},
   "source": [
    "### First dataset look "
   ]
  },
  {
   "cell_type": "code",
   "execution_count": 66,
   "id": "ea96386e",
   "metadata": {},
   "outputs": [],
   "source": [
    "# Check the dataset how many columns and rows it has\n",
    "world_cups.shape"
   ]
  },
  {
   "cell_type": "code",
   "execution_count": 67,
   "id": "8dc9a7f6",
   "metadata": {
    "scrolled": true
   },
   "outputs": [],
   "source": [
    "# Check the first three raw of the world_cups dataset\n",
    "world_cups.head(3)"
   ]
  },
  {
   "cell_type": "code",
   "execution_count": 68,
   "id": "ba5ea6a6",
   "metadata": {},
   "outputs": [],
   "source": [
    "# Check the last three raws of the dataset\n",
    "world_cups.tail(3)"
   ]
  },
  {
   "cell_type": "code",
   "execution_count": 69,
   "id": "e04cc1ea",
   "metadata": {},
   "outputs": [],
   "source": [
    "# Let's check how many null values in total we have in these dataset\n",
    "world_cups.isnull().sum()"
   ]
  },
  {
   "cell_type": "code",
   "execution_count": 70,
   "id": "fc56d342",
   "metadata": {},
   "outputs": [],
   "source": [
    "# Check the dataset how many columns and raws it has\n",
    "players.shape"
   ]
  },
  {
   "cell_type": "code",
   "execution_count": 71,
   "id": "99478c4e",
   "metadata": {
    "scrolled": true
   },
   "outputs": [],
   "source": [
    "# Check the first three raws the players dataset\n",
    "players.head(3)"
   ]
  },
  {
   "cell_type": "code",
   "execution_count": 72,
   "id": "2aac2fbe",
   "metadata": {},
   "outputs": [],
   "source": [
    "# Check the the last three dataset\n",
    "players.tail(3)"
   ]
  },
  {
   "cell_type": "code",
   "execution_count": 73,
   "id": "cc71827c",
   "metadata": {},
   "outputs": [],
   "source": [
    "# Let's check if there is a null value in this dataset\n",
    "players.isnull().sum()"
   ]
  },
  {
   "cell_type": "code",
   "execution_count": 74,
   "id": "7b21927b",
   "metadata": {},
   "outputs": [],
   "source": [
    "# Check the dataset how many clumns and raws it has\n",
    "matches.shape"
   ]
  },
  {
   "cell_type": "code",
   "execution_count": 75,
   "id": "51b845e0",
   "metadata": {},
   "outputs": [],
   "source": [
    "# Check the first three rows of the dataset\n",
    "matches.head(3)"
   ]
  },
  {
   "cell_type": "code",
   "execution_count": 76,
   "id": "edabf481",
   "metadata": {
    "scrolled": true
   },
   "outputs": [],
   "source": [
    "# Check the last three raws of the dataset\n",
    "matches.tail(3)"
   ]
  },
  {
   "cell_type": "code",
   "execution_count": 77,
   "id": "eb87e0f9",
   "metadata": {
    "scrolled": true
   },
   "outputs": [],
   "source": [
    "# Check if there is a null value in the dataset\n",
    "matches.isnull().sum() # Have no null value"
   ]
  },
  {
   "cell_type": "markdown",
   "id": "898b9133",
   "metadata": {},
   "source": [
    "### Data Cleaning "
   ]
  },
  {
   "cell_type": "code",
   "execution_count": 78,
   "id": "1c66ee16",
   "metadata": {},
   "outputs": [],
   "source": [
    "# First remove the null values from \"world_cups\" table \n",
    "world_cups.dropna(subset = ['Year'], inplace = True)\n",
    "world_cups.tail(3)"
   ]
  },
  {
   "cell_type": "code",
   "execution_count": 79,
   "id": "ae34467b",
   "metadata": {
    "scrolled": true
   },
   "outputs": [],
   "source": [
    "# let's select the catagorical variables and check their frequencies \n",
    "world_cups_cat = world_cups[['Stage','Stadium','City','Home Team Name','Away Team Name','Win conditions','Referee','Assistant 1','Assistant 2','Home Team Initials','Away Team Initials']]\n",
    "for col in world_cups_cat:\n",
    "    print(world_cups_cat[col].value_counts())\n",
    "    print()"
   ]
  },
  {
   "cell_type": "markdown",
   "id": "4155e811",
   "metadata": {},
   "source": [
    "Since last 19 years, there are nations whose names has been changed after world war 2.So, first we need to set those names."
   ]
  },
  {
   "cell_type": "code",
   "execution_count": 80,
   "id": "145e096d",
   "metadata": {},
   "outputs": [],
   "source": [
    "# We need to make the catagories of \"Home Team Name\" column value consistence \n",
    "names = world_cups[world_cups['Home Team Name'].str.contains('rn\">')]['Home Team Name'].value_counts()\n",
    "names"
   ]
  },
  {
   "cell_type": "code",
   "execution_count": 81,
   "id": "19b70aa3",
   "metadata": {},
   "outputs": [],
   "source": [
    "# extract the index values from names \n",
    "names.index"
   ]
  },
  {
   "cell_type": "code",
   "execution_count": 82,
   "id": "44f2c0a1",
   "metadata": {},
   "outputs": [],
   "source": [
    "# Extract the index of the names value and change it into list datatype so that we can apply for loop \n",
    "wrong = list(names.index)\n",
    "wrong"
   ]
  },
  {
   "cell_type": "code",
   "execution_count": 83,
   "id": "fe15517f",
   "metadata": {},
   "outputs": [],
   "source": [
    "# Using list comprehension technique split each data value in to two and extract the data after \">\" sign \n",
    "correct = [name.split('>')[1] for name in wrong] # here [1] indicates the second index of the list element\n",
    "correct"
   ]
  },
  {
   "cell_type": "code",
   "execution_count": 84,
   "id": "f00b98c2",
   "metadata": {},
   "outputs": [],
   "source": [
    "# Let's replace the rest of the wrong stadium name columns with the right representation \n",
    "prior = ['Germany FR','Maracan� - Est�dio Jornalista M�rio Filho', 'Estadio do Maracana']\n",
    "new = ['Germany', 'Maracanã Stadium','Maracanã Stadium']"
   ]
  },
  {
   "cell_type": "code",
   "execution_count": 85,
   "id": "a970f9bb",
   "metadata": {},
   "outputs": [],
   "source": [
    "# Lets combine all the wrong and right lists together\n",
    "wrong = wrong + prior\n",
    "correct = correct + new"
   ]
  },
  {
   "cell_type": "code",
   "execution_count": 86,
   "id": "aed3edd5",
   "metadata": {},
   "outputs": [],
   "source": [
    "# Let's check both lists \n",
    "wrong , correct"
   ]
  },
  {
   "cell_type": "code",
   "execution_count": 87,
   "id": "6ea27aab",
   "metadata": {},
   "outputs": [],
   "source": [
    "# By using the above cleaned list of \"Home Team Name\" correct for all three datasets\n",
    "for index, word in enumerate(wrong):\n",
    "    world_cups = world_cups.replace(wrong[index], correct[index])\n",
    "    \n",
    "for index, word in enumerate(wrong):\n",
    "    matches = matches.replace(wrong[index], correct[index])\n",
    "    \n",
    "for index, word in enumerate(wrong):\n",
    "    players = players.replace(wrong[index], correct[index])"
   ]
  },
  {
   "cell_type": "code",
   "execution_count": 88,
   "id": "d75067de",
   "metadata": {},
   "outputs": [],
   "source": [
    "# Let's check if there is any names with 'rn\">' in our dataset\n",
    "names = world_cups[world_cups['Home Team Name'].str.contains('rn\">')]['Home Team Name'].value_counts()\n",
    "names # It shows an empty list because there is no value with the string 'rn\">' "
   ]
  },
  {
   "cell_type": "markdown",
   "id": "795d0823",
   "metadata": {},
   "source": [
    "Next, let's correct the datatypes of the variables in each dataframe like datetime, year and change numerical variables datatype to integer."
   ]
  },
  {
   "cell_type": "code",
   "execution_count": 89,
   "id": "e42cefca",
   "metadata": {},
   "outputs": [],
   "source": [
    "# Display the variables with their respective datatype\n",
    "world_cups.info()"
   ]
  },
  {
   "cell_type": "code",
   "execution_count": 90,
   "id": "142b41d8",
   "metadata": {},
   "outputs": [],
   "source": [
    "# First let's check if there is no null value in any of variables\n",
    "world_cups.isnull().sum()"
   ]
  },
  {
   "cell_type": "code",
   "execution_count": 91,
   "id": "761667df",
   "metadata": {},
   "outputs": [],
   "source": [
    "# There are two null values in \"Attendance\" variable and we will remove it now\n",
    "world_cups.dropna(subset = ['Attendance'], inplace = True)\n",
    "world_cups.isnull().sum()"
   ]
  },
  {
   "cell_type": "code",
   "execution_count": 33,
   "id": "c64728d0",
   "metadata": {},
   "outputs": [],
   "source": [
    "# Now let's change the datatypes of numeric values into integer\n",
    "world_cups[['Year','Home Team Goals','Away Team Goals','Attendance','Half-time Home Goals','Half-time Away Goals','RoundID','MatchID']] = world_cups[['Year','Home Team Goals','Away Team Goals','Attendance','Half-time Home Goals','Half-time Away Goals','RoundID','MatchID']].astype(int)"
   ]
  },
  {
   "cell_type": "code",
   "execution_count": 34,
   "id": "2e475cd3",
   "metadata": {},
   "outputs": [],
   "source": [
    "# Change the datetime object datatype to datatime and change the format\n",
    "world_cups['Datetime'] = pd.to_datetime(world_cups['Datetime'])\n",
    "world_cups['Datetime'] = world_cups['Datetime'].apply(lambda x: x.strftime('%d %b, %Y'))"
   ]
  },
  {
   "cell_type": "code",
   "execution_count": 36,
   "id": "18710ba0",
   "metadata": {},
   "outputs": [],
   "source": [
    "# Let's drop some of the columns that we don't want for our analysis\n",
    "world_cups = world_cups.drop(columns=['Stage','Win conditions','Half-time Home Goals','Half-time Away Goals','Referee','Assistant 1','Assistant 2','RoundID','MatchID','Home Team Initials','Away Team Initials'])"
   ]
  },
  {
   "cell_type": "code",
   "execution_count": 42,
   "id": "da85681b",
   "metadata": {},
   "outputs": [],
   "source": [
    "# Lastly , let's change all the column names in to lower case\n",
    "world_cups.columns = ['year','datetime','stadium','city','home team name','home team goals','away team goals','away team name','attendance']"
   ]
  },
  {
   "cell_type": "code",
   "execution_count": 92,
   "id": "7637741a",
   "metadata": {
    "scrolled": true
   },
   "outputs": [],
   "source": [
    "# Now let's check our clean dataset\n",
    "world_cups.head()"
   ]
  },
  {
   "cell_type": "code",
   "execution_count": 93,
   "id": "b107cf9e",
   "metadata": {},
   "outputs": [],
   "source": [
    "# Let's check for datatype and null value\n",
    "world_cups.info()"
   ]
  },
  {
   "cell_type": "markdown",
   "id": "a0b5424e",
   "metadata": {},
   "source": [
    "Let's move to the second dataframe that must be cleaned \"Players\""
   ]
  },
  {
   "cell_type": "code",
   "execution_count": 49,
   "id": "cee9527a",
   "metadata": {},
   "outputs": [],
   "source": [
    "# Drop unnecessay columns and change their name to lower case\n",
    "players.drop(['Position','Event'], axis=1, inplace=True)\n",
    "players.columns = ['roundid','matchid','team initials','coach name','line-up','shirt number','player name']"
   ]
  },
  {
   "cell_type": "code",
   "execution_count": 94,
   "id": "c9645754",
   "metadata": {},
   "outputs": [],
   "source": [
    "# Check for null values and datatypes\n",
    "players.info()"
   ]
  },
  {
   "cell_type": "markdown",
   "id": "216e3215",
   "metadata": {},
   "source": [
    "Now we have reached to the last dataset to be cleaned \"Matches\"; based on our observation of the dataset in the beginning we will drop unwanted columns and column names to lower case ."
   ]
  },
  {
   "cell_type": "code",
   "execution_count": 60,
   "id": "ccf9b4e9",
   "metadata": {},
   "outputs": [],
   "source": [
    "# Drop unnecessay columns and change their name to lower case\n",
    "matches.drop(['Fourth','QualifiedTeams','MatchesPlayed'], axis=1, inplace=True)\n",
    "matches.columns = ['year','country','winner','runners-up','third','goals_scored','attendance']"
   ]
  },
  {
   "cell_type": "code",
   "execution_count": 95,
   "id": "8bd6f8d9",
   "metadata": {},
   "outputs": [],
   "source": [
    "# Check the dataset\n",
    "matches.head()"
   ]
  },
  {
   "cell_type": "code",
   "execution_count": 65,
   "id": "0e801aaf",
   "metadata": {},
   "outputs": [],
   "source": [
    "# Save the cleaned datasets\n",
    "world_cups.to_csv(\"world_cup_cl.csv\")\n",
    "matches.to_csv(\"matches_cl.csv\")\n",
    "players.to_csv(\"players_cl.csv\")"
   ]
  }
 ],
 "metadata": {
  "kernelspec": {
   "display_name": "Python 3",
   "language": "python",
   "name": "python3"
  },
  "language_info": {
   "codemirror_mode": {
    "name": "ipython",
    "version": 3
   },
   "file_extension": ".py",
   "mimetype": "text/x-python",
   "name": "python",
   "nbconvert_exporter": "python",
   "pygments_lexer": "ipython3",
   "version": "3.6.8"
  }
 },
 "nbformat": 4,
 "nbformat_minor": 5
}
